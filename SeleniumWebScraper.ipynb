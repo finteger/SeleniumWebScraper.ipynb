from selenium import webdriver
from bs4 import BeautifulSoup
from selenium.webdriver.chrome.service import Service 
import csv

driver = webdriver.Chrome()

#Sample page for practice
page_url = 'https://www150.statcan.gc.ca/t1/tbl1/en/tv.action?pid=1810000401'

#Wait for the table to load
driver.get(page_url)

# Get page source code after JavaScript execution
driver.implicitly_wait(20)

page_source = driver.page_source

#specify html parser
soup = BeautifulSoup(page_source, 'html.parser')

#find table by id
table = soup.find('table', _class='pub-table')

if table:
    #get the column headers
    headers = [th.get_text().strip() for th in table.find_all('th')]
    
    #extract the rows


    






